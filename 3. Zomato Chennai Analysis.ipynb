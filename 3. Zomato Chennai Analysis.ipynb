{
 "cells": [
  {
   "cell_type": "code",
   "execution_count": 1,
   "id": "793ea515",
   "metadata": {},
   "outputs": [],
   "source": [
    "import pandas as pd"
   ]
  },
  {
   "cell_type": "markdown",
   "id": "d70a4837",
   "metadata": {},
   "source": [
    "# Import data"
   ]
  },
  {
   "cell_type": "code",
   "execution_count": 2,
   "id": "ac24c188",
   "metadata": {},
   "outputs": [],
   "source": [
    "# import the data set\n",
    "dataSet = pd.read_csv('Zomato Chennai Listing 2020.csv')"
   ]
  },
  {
   "cell_type": "markdown",
   "id": "4935248a",
   "metadata": {},
   "source": [
    "# Get info about data"
   ]
  },
  {
   "cell_type": "code",
   "execution_count": 3,
   "id": "89c4033e",
   "metadata": {},
   "outputs": [
    {
     "data": {
      "text/plain": [
       "(12032, 12)"
      ]
     },
     "execution_count": 3,
     "metadata": {},
     "output_type": "execute_result"
    }
   ],
   "source": [
    "# How many rows and columns\n",
    "\n",
    "dataSet.shape"
   ]
  },
  {
   "cell_type": "code",
   "execution_count": 4,
   "id": "d987558a",
   "metadata": {},
   "outputs": [
    {
     "data": {
      "text/html": [
       "<div>\n",
       "<style scoped>\n",
       "    .dataframe tbody tr th:only-of-type {\n",
       "        vertical-align: middle;\n",
       "    }\n",
       "\n",
       "    .dataframe tbody tr th {\n",
       "        vertical-align: top;\n",
       "    }\n",
       "\n",
       "    .dataframe thead th {\n",
       "        text-align: right;\n",
       "    }\n",
       "</style>\n",
       "<table border=\"1\" class=\"dataframe\">\n",
       "  <thead>\n",
       "    <tr style=\"text-align: right;\">\n",
       "      <th></th>\n",
       "      <th>Zomato URL</th>\n",
       "      <th>Name of Restaurant</th>\n",
       "      <th>Address</th>\n",
       "      <th>Location</th>\n",
       "      <th>Cuisine</th>\n",
       "      <th>Top Dishes</th>\n",
       "      <th>Price for 2</th>\n",
       "      <th>Dining Rating</th>\n",
       "      <th>Dining Rating Count</th>\n",
       "      <th>Delivery Rating</th>\n",
       "      <th>Delivery Rating Count</th>\n",
       "      <th>Features</th>\n",
       "    </tr>\n",
       "  </thead>\n",
       "  <tbody>\n",
       "    <tr>\n",
       "      <th>0</th>\n",
       "      <td>https://www.zomato.com/chennai/yaa-mohaideen-b...</td>\n",
       "      <td>Yaa Mohaideen Briyani</td>\n",
       "      <td>336 &amp; 338, Main Road, Pallavaram, Chennai</td>\n",
       "      <td>Pallavaram</td>\n",
       "      <td>['Biryani']</td>\n",
       "      <td>['Bread Halwa', ' Chicken 65', ' Mutton Biryan...</td>\n",
       "      <td>500.0</td>\n",
       "      <td>4.3</td>\n",
       "      <td>1500</td>\n",
       "      <td>4.3</td>\n",
       "      <td>9306</td>\n",
       "      <td>['Home Delivery', 'Indoor Seating']</td>\n",
       "    </tr>\n",
       "    <tr>\n",
       "      <th>1</th>\n",
       "      <td>https://www.zomato.com/chennai/sukkubhai-biriy...</td>\n",
       "      <td>Sukkubhai Biriyani</td>\n",
       "      <td>New 14, Old 11/3Q, Railway Station Road, MKN ...</td>\n",
       "      <td>Alandur</td>\n",
       "      <td>['Biryani', ' North Indian', ' Mughlai', ' Des...</td>\n",
       "      <td>['Beef Biryani', ' Beef Fry', ' Paratha', ' Pa...</td>\n",
       "      <td>1000.0</td>\n",
       "      <td>4.4</td>\n",
       "      <td>3059</td>\n",
       "      <td>4.1</td>\n",
       "      <td>39200</td>\n",
       "      <td>['Home Delivery', 'Free Parking', 'Table booki...</td>\n",
       "    </tr>\n",
       "    <tr>\n",
       "      <th>2</th>\n",
       "      <td>https://www.zomato.com/chennai/ss-hyderabad-bi...</td>\n",
       "      <td>SS Hyderabad Biryani</td>\n",
       "      <td>98/339, Arcot Road, Opposite Gokulam Chit Fun...</td>\n",
       "      <td>Kodambakkam</td>\n",
       "      <td>['Biryani', ' North Indian', ' Chinese', ' Ara...</td>\n",
       "      <td>['Brinjal Curry', ' Tandoori Chicken', ' Chick...</td>\n",
       "      <td>500.0</td>\n",
       "      <td>4.3</td>\n",
       "      <td>1361</td>\n",
       "      <td>4.4</td>\n",
       "      <td>10500</td>\n",
       "      <td>['Home Delivery', 'Indoor Seating']</td>\n",
       "    </tr>\n",
       "    <tr>\n",
       "      <th>3</th>\n",
       "      <td>https://www.zomato.com/chennai/kfc-perambur</td>\n",
       "      <td>KFC</td>\n",
       "      <td>10, Periyar Nagar, 70 Feet Road, Near Sheeba ...</td>\n",
       "      <td>Perambur</td>\n",
       "      <td>['Burger', ' Fast Food', ' Finger Food', ' Bev...</td>\n",
       "      <td>['Zinger Burger']</td>\n",
       "      <td>500.0</td>\n",
       "      <td>4.0</td>\n",
       "      <td>1101</td>\n",
       "      <td>4.0</td>\n",
       "      <td>11200</td>\n",
       "      <td>['Home Delivery', 'Free Parking', 'Card Upon D...</td>\n",
       "    </tr>\n",
       "    <tr>\n",
       "      <th>4</th>\n",
       "      <td>https://www.zomato.com/chennai/tasty-kitchen-p...</td>\n",
       "      <td>Tasty Kitchen</td>\n",
       "      <td>135B, SRP Colony, Peravallur, Near Perambur, ...</td>\n",
       "      <td>Perambur</td>\n",
       "      <td>['Chinese', ' Biryani', ' North Indian', ' Che...</td>\n",
       "      <td>['Mutton Biryani', ' Chicken Rice', ' Tomato R...</td>\n",
       "      <td>450.0</td>\n",
       "      <td>4.2</td>\n",
       "      <td>617</td>\n",
       "      <td>4.1</td>\n",
       "      <td>22400</td>\n",
       "      <td>['Home Delivery', 'Indoor Seating']</td>\n",
       "    </tr>\n",
       "  </tbody>\n",
       "</table>\n",
       "</div>"
      ],
      "text/plain": [
       "                                          Zomato URL     Name of Restaurant  \\\n",
       "0  https://www.zomato.com/chennai/yaa-mohaideen-b...  Yaa Mohaideen Briyani   \n",
       "1  https://www.zomato.com/chennai/sukkubhai-biriy...     Sukkubhai Biriyani   \n",
       "2  https://www.zomato.com/chennai/ss-hyderabad-bi...   SS Hyderabad Biryani   \n",
       "3        https://www.zomato.com/chennai/kfc-perambur                    KFC   \n",
       "4  https://www.zomato.com/chennai/tasty-kitchen-p...          Tasty Kitchen   \n",
       "\n",
       "                                             Address     Location  \\\n",
       "0          336 & 338, Main Road, Pallavaram, Chennai   Pallavaram   \n",
       "1   New 14, Old 11/3Q, Railway Station Road, MKN ...      Alandur   \n",
       "2   98/339, Arcot Road, Opposite Gokulam Chit Fun...  Kodambakkam   \n",
       "3   10, Periyar Nagar, 70 Feet Road, Near Sheeba ...     Perambur   \n",
       "4   135B, SRP Colony, Peravallur, Near Perambur, ...     Perambur   \n",
       "\n",
       "                                             Cuisine  \\\n",
       "0                                        ['Biryani']   \n",
       "1  ['Biryani', ' North Indian', ' Mughlai', ' Des...   \n",
       "2  ['Biryani', ' North Indian', ' Chinese', ' Ara...   \n",
       "3  ['Burger', ' Fast Food', ' Finger Food', ' Bev...   \n",
       "4  ['Chinese', ' Biryani', ' North Indian', ' Che...   \n",
       "\n",
       "                                          Top Dishes  Price for 2  \\\n",
       "0  ['Bread Halwa', ' Chicken 65', ' Mutton Biryan...        500.0   \n",
       "1  ['Beef Biryani', ' Beef Fry', ' Paratha', ' Pa...       1000.0   \n",
       "2  ['Brinjal Curry', ' Tandoori Chicken', ' Chick...        500.0   \n",
       "3                                  ['Zinger Burger']        500.0   \n",
       "4  ['Mutton Biryani', ' Chicken Rice', ' Tomato R...        450.0   \n",
       "\n",
       "  Dining Rating Dining Rating Count Delivery Rating Delivery Rating Count  \\\n",
       "0           4.3                1500             4.3                  9306   \n",
       "1           4.4                3059             4.1                 39200   \n",
       "2           4.3                1361             4.4                 10500   \n",
       "3           4.0                1101             4.0                 11200   \n",
       "4           4.2                 617             4.1                 22400   \n",
       "\n",
       "                                            Features  \n",
       "0                ['Home Delivery', 'Indoor Seating']  \n",
       "1  ['Home Delivery', 'Free Parking', 'Table booki...  \n",
       "2                ['Home Delivery', 'Indoor Seating']  \n",
       "3  ['Home Delivery', 'Free Parking', 'Card Upon D...  \n",
       "4                ['Home Delivery', 'Indoor Seating']  "
      ]
     },
     "execution_count": 4,
     "metadata": {},
     "output_type": "execute_result"
    }
   ],
   "source": [
    "# Head of the data total Five\n",
    "\n",
    "dataSet.head()"
   ]
  },
  {
   "cell_type": "code",
   "execution_count": 5,
   "id": "59ca873f",
   "metadata": {},
   "outputs": [
    {
     "name": "stdout",
     "output_type": "stream",
     "text": [
      "<class 'pandas.core.frame.DataFrame'>\n",
      "RangeIndex: 12032 entries, 0 to 12031\n",
      "Data columns (total 12 columns):\n",
      "Zomato URL               12032 non-null object\n",
      "Name of Restaurant       12032 non-null object\n",
      "Address                  12032 non-null object\n",
      "Location                 12032 non-null object\n",
      "Cuisine                  12032 non-null object\n",
      "Top Dishes               12032 non-null object\n",
      "Price for 2              12032 non-null float64\n",
      "Dining Rating            12032 non-null object\n",
      "Dining Rating Count      12032 non-null object\n",
      "Delivery Rating          12032 non-null object\n",
      "Delivery Rating Count    12032 non-null object\n",
      "Features                 12032 non-null object\n",
      "dtypes: float64(1), object(11)\n",
      "memory usage: 1.1+ MB\n"
     ]
    }
   ],
   "source": [
    "# dataSet information about object, int, float\n",
    "\n",
    "dataSet.info()"
   ]
  },
  {
   "cell_type": "markdown",
   "id": "81f3acfb",
   "metadata": {},
   "source": [
    "# Data cleaning"
   ]
  },
  {
   "cell_type": "code",
   "execution_count": 6,
   "id": "8381babe",
   "metadata": {},
   "outputs": [],
   "source": [
    "# Remove the columns address and Zomato URL is not wanted\n",
    "\n",
    "dataSet.drop(['Address', 'Zomato URL'], axis = 1, inplace = True)"
   ]
  },
  {
   "cell_type": "code",
   "execution_count": 7,
   "id": "f4b34167",
   "metadata": {},
   "outputs": [
    {
     "data": {
      "text/html": [
       "<div>\n",
       "<style scoped>\n",
       "    .dataframe tbody tr th:only-of-type {\n",
       "        vertical-align: middle;\n",
       "    }\n",
       "\n",
       "    .dataframe tbody tr th {\n",
       "        vertical-align: top;\n",
       "    }\n",
       "\n",
       "    .dataframe thead th {\n",
       "        text-align: right;\n",
       "    }\n",
       "</style>\n",
       "<table border=\"1\" class=\"dataframe\">\n",
       "  <thead>\n",
       "    <tr style=\"text-align: right;\">\n",
       "      <th></th>\n",
       "      <th>Name of Restaurant</th>\n",
       "      <th>Location</th>\n",
       "      <th>Cuisine</th>\n",
       "      <th>Top Dishes</th>\n",
       "      <th>Dining Rating</th>\n",
       "      <th>Dining Rating Count</th>\n",
       "      <th>Delivery Rating</th>\n",
       "      <th>Delivery Rating Count</th>\n",
       "      <th>Features</th>\n",
       "    </tr>\n",
       "  </thead>\n",
       "  <tbody>\n",
       "    <tr>\n",
       "      <th>count</th>\n",
       "      <td>12032</td>\n",
       "      <td>12032</td>\n",
       "      <td>12032</td>\n",
       "      <td>12032</td>\n",
       "      <td>12032</td>\n",
       "      <td>12032</td>\n",
       "      <td>12032</td>\n",
       "      <td>12032</td>\n",
       "      <td>12032</td>\n",
       "    </tr>\n",
       "    <tr>\n",
       "      <th>unique</th>\n",
       "      <td>8369</td>\n",
       "      <td>268</td>\n",
       "      <td>2423</td>\n",
       "      <td>2190</td>\n",
       "      <td>35</td>\n",
       "      <td>794</td>\n",
       "      <td>33</td>\n",
       "      <td>2282</td>\n",
       "      <td>1554</td>\n",
       "    </tr>\n",
       "    <tr>\n",
       "      <th>top</th>\n",
       "      <td>Amma Unavagam</td>\n",
       "      <td>Porur</td>\n",
       "      <td>['South Indian']</td>\n",
       "      <td>Invalid</td>\n",
       "      <td>None</td>\n",
       "      <td>Does not offer Dining</td>\n",
       "      <td>None</td>\n",
       "      <td>Not enough Delivery Reviews</td>\n",
       "      <td>['Home Delivery', 'Indoor Seating']</td>\n",
       "    </tr>\n",
       "    <tr>\n",
       "      <th>freq</th>\n",
       "      <td>78</td>\n",
       "      <td>418</td>\n",
       "      <td>883</td>\n",
       "      <td>9641</td>\n",
       "      <td>5351</td>\n",
       "      <td>2603</td>\n",
       "      <td>5851</td>\n",
       "      <td>3379</td>\n",
       "      <td>2447</td>\n",
       "    </tr>\n",
       "  </tbody>\n",
       "</table>\n",
       "</div>"
      ],
      "text/plain": [
       "       Name of Restaurant Location           Cuisine Top Dishes Dining Rating  \\\n",
       "count               12032    12032             12032      12032         12032   \n",
       "unique               8369      268              2423       2190            35   \n",
       "top         Amma Unavagam    Porur  ['South Indian']    Invalid          None   \n",
       "freq                   78      418               883       9641          5351   \n",
       "\n",
       "          Dining Rating Count Delivery Rating        Delivery Rating Count  \\\n",
       "count                   12032           12032                        12032   \n",
       "unique                    794              33                         2282   \n",
       "top     Does not offer Dining            None  Not enough Delivery Reviews   \n",
       "freq                     2603            5851                         3379   \n",
       "\n",
       "                                   Features  \n",
       "count                                 12032  \n",
       "unique                                 1554  \n",
       "top     ['Home Delivery', 'Indoor Seating']  \n",
       "freq                                   2447  "
      ]
     },
     "execution_count": 7,
     "metadata": {},
     "output_type": "execute_result"
    }
   ],
   "source": [
    "# And describe the Category data\n",
    "\n",
    "dataSet[['Name of Restaurant', 'Location', 'Cuisine',\n",
    "       'Top Dishes', 'Dining Rating', 'Dining Rating Count',\n",
    "       'Delivery Rating', 'Delivery Rating Count', 'Features']].describe()"
   ]
  },
  {
   "cell_type": "code",
   "execution_count": 8,
   "id": "5d544c23",
   "metadata": {},
   "outputs": [
    {
     "data": {
      "text/plain": [
       "Not enough Delivery Reviews    3379\n",
       "Does not offer Delivery        2252\n",
       "None                            220\n",
       "27                               34\n",
       "60                               30\n",
       "                               ... \n",
       "1472                              1\n",
       "3272                              1\n",
       "19500                             1\n",
       "1908                              1\n",
       "1548                              1\n",
       "Name: Delivery Rating Count, Length: 2282, dtype: int64"
      ]
     },
     "execution_count": 8,
     "metadata": {},
     "output_type": "execute_result"
    }
   ],
   "source": [
    "# show the unique data in Delivery Rating Count\n",
    "\n",
    "dataSet['Delivery Rating Count'].value_counts()"
   ]
  },
  {
   "cell_type": "code",
   "execution_count": 9,
   "id": "ba96cf34",
   "metadata": {},
   "outputs": [],
   "source": [
    "# replace the Delivery Rating Count data for Not enough Delivery Reviews', 'Does not offer Delivery' and 'None' put 0\n",
    "\n",
    "dataSet['Delivery Rating Count'].replace(to_replace = ['Not enough Delivery Reviews', 'Does not offer Delivery', 'None'], value = '0', inplace = True)"
   ]
  },
  {
   "cell_type": "code",
   "execution_count": 10,
   "id": "079a0f07",
   "metadata": {},
   "outputs": [
    {
     "data": {
      "text/plain": [
       "0        5870\n",
       "27         34\n",
       "22         30\n",
       "32         30\n",
       "60         30\n",
       "         ... \n",
       "19500       1\n",
       "1908        1\n",
       "5228        1\n",
       "1514        1\n",
       "1671        1\n",
       "Name: Delivery Rating Count, Length: 2279, dtype: int64"
      ]
     },
     "execution_count": 10,
     "metadata": {},
     "output_type": "execute_result"
    }
   ],
   "source": [
    "# after replace the Delivery Rating Count data\n",
    "\n",
    "dataSet['Delivery Rating Count'].value_counts()"
   ]
  },
  {
   "cell_type": "code",
   "execution_count": 11,
   "id": "97f319b9",
   "metadata": {},
   "outputs": [],
   "source": [
    "# some hotel are not provide the Dining table so, replace value\n",
    "\n",
    "dataSet.replace(to_replace = ['None', 'Does not offer Dining', 'Not enough Dining Reviews'], value ='Not provide Dining',inplace=True)"
   ]
  },
  {
   "cell_type": "code",
   "execution_count": 12,
   "id": "64cf480b",
   "metadata": {},
   "outputs": [
    {
     "data": {
      "text/plain": [
       "Invalid                                                                                                9641\n",
       "['Biryani']                                                                                              30\n",
       "['Coffee']                                                                                               14\n",
       "['Chicken Biryani']                                                                                      12\n",
       "['Pizza', ' Garlic Bread']                                                                               11\n",
       "                                                                                                       ... \n",
       "['Fish', ' Luchi', ' Rolls', ' Chicken Chaap', ' Prawn Malai Curry', ' Rasgulla', ' Kosha Mangsho']       1\n",
       "['Pizza', ' Salad', ' Fish', ' Pasta', ' Chaat', ' Biryani', ' Breakfast Buffet']                         1\n",
       "['Butter Chicken', ' Naan']                                                                               1\n",
       "['Mutton Biryani', ' Curd Vadai', ' Vada', ' Idli', ' White Sauce Pasta', ' Halwa', ' Egg Curry']         1\n",
       "['Sushi', ' Pasta', ' Sea Food', ' Lunch Buffet', ' Pizza', ' Salad', ' Fish']                            1\n",
       "Name: Top Dishes, Length: 2190, dtype: int64"
      ]
     },
     "execution_count": 12,
     "metadata": {},
     "output_type": "execute_result"
    }
   ],
   "source": [
    "# see the Unique Top Dishes \n",
    "\n",
    "dataSet['Top Dishes'].value_counts()"
   ]
  },
  {
   "cell_type": "code",
   "execution_count": 13,
   "id": "c2bc07da",
   "metadata": {},
   "outputs": [],
   "source": [
    "# Most of the Top Dishes is Invalid so, change the Favourite Dishe. common for all the peoples\n",
    "\n",
    "dataSet['Top Dishes'].replace(to_replace = 'Invalid', value = 'Favourite Dishe', inplace = True)"
   ]
  },
  {
   "cell_type": "code",
   "execution_count": 14,
   "id": "d2c7a6da",
   "metadata": {},
   "outputs": [
    {
     "data": {
      "text/plain": [
       "Favourite Dishe                                                                                        9641\n",
       "['Biryani']                                                                                              30\n",
       "['Coffee']                                                                                               14\n",
       "['Chicken Biryani']                                                                                      12\n",
       "['Pizza', ' Garlic Bread']                                                                               11\n",
       "                                                                                                       ... \n",
       "['Rasmalai', ' Coffee', ' Chaat', ' Masala Dosa']                                                         1\n",
       "['Vegetable Biryani', ' Gulab Jamun', ' Basmati Rice']                                                    1\n",
       "['Fish', ' Luchi', ' Rolls', ' Chicken Chaap', ' Prawn Malai Curry', ' Rasgulla', ' Kosha Mangsho']       1\n",
       "['Pizza', ' Salad', ' Fish', ' Pasta', ' Chaat', ' Biryani', ' Breakfast Buffet']                         1\n",
       "['Sushi', ' Pasta', ' Sea Food', ' Lunch Buffet', ' Pizza', ' Salad', ' Fish']                            1\n",
       "Name: Top Dishes, Length: 2190, dtype: int64"
      ]
     },
     "execution_count": 14,
     "metadata": {},
     "output_type": "execute_result"
    }
   ],
   "source": [
    "# after the replace the data \n",
    "\n",
    "dataSet['Top Dishes'].value_counts()"
   ]
  },
  {
   "cell_type": "markdown",
   "id": "8786e730",
   "metadata": {},
   "source": [
    "# Location"
   ]
  },
  {
   "cell_type": "code",
   "execution_count": 15,
   "id": "ebe991bc",
   "metadata": {},
   "outputs": [
    {
     "data": {
      "text/plain": [
       "Porur                                       418\n",
       "Velachery                                   372\n",
       "Ambattur                                    334\n",
       "T. Nagar                                    315\n",
       "Perungudi                                   288\n",
       "                                           ... \n",
       "Days Hotel, Old Mahabalipuram Road (OMR)      1\n",
       "Hotel Regenta Central RS, Navallur            1\n",
       "Mamalla Beach Resort, Mahabalipuram           1\n",
       "Southern Residency Hotel, OMR                 1\n",
       "IBIS Hotel, Old Mahabalipuram Road (OMR)      1\n",
       "Name: Location, Length: 268, dtype: int64"
      ]
     },
     "execution_count": 15,
     "metadata": {},
     "output_type": "execute_result"
    }
   ],
   "source": [
    "# see the unique Location data\n",
    "\n",
    "dataSet[\"Location\"].value_counts()"
   ]
  },
  {
   "cell_type": "code",
   "execution_count": 16,
   "id": "25ef3282",
   "metadata": {},
   "outputs": [],
   "source": [
    "# Replacing Small regions with Known region name\n",
    "\n",
    "detectCommaSymbol = dataSet[dataSet['Location'].str.find(\",\") != -1]['Location']\n",
    "for x in detectCommaSymbol:\n",
    "    valSplit = x.split(',')\n",
    "    dataSet['Location'].replace(to_replace = x, value = \" \".join(valSplit[1].split()), inplace = True)"
   ]
  },
  {
   "cell_type": "code",
   "execution_count": 17,
   "id": "9c06fad2",
   "metadata": {},
   "outputs": [
    {
     "data": {
      "text/plain": [
       "Velachery             421\n",
       "Porur                 421\n",
       "Ambattur              361\n",
       "T. Nagar              335\n",
       "Perungudi             288\n",
       "                     ... \n",
       "Kanchipuram             2\n",
       "Sriperumbudur           2\n",
       "Somerset Greenways      2\n",
       "East...                 1\n",
       "The Slate               1\n",
       "Name: Location, Length: 129, dtype: int64"
      ]
     },
     "execution_count": 17,
     "metadata": {},
     "output_type": "execute_result"
    }
   ],
   "source": [
    "# after replaced\n",
    "\n",
    "dataSet['Location'].value_counts()"
   ]
  },
  {
   "cell_type": "code",
   "execution_count": 18,
   "id": "611f8239",
   "metadata": {},
   "outputs": [],
   "source": [
    "# finall data set cleaning\n",
    "\n",
    "dataSet.to_csv('PreProcessing Zomato Chennai.csv', index=False,header=True)"
   ]
  },
  {
   "cell_type": "code",
   "execution_count": 77,
   "id": "70b3d780",
   "metadata": {},
   "outputs": [
    {
     "data": {
      "text/plain": [
       "<matplotlib.image.AxesImage at 0x1b32a475e48>"
      ]
     },
     "execution_count": 77,
     "metadata": {},
     "output_type": "execute_result"
    },
    {
     "data": {
      "image/png": "[encoded data removed]",
      "text/plain": [
       "<Figure size 640x480 with 1 Axes>"
      ]
     },
     "metadata": {},
     "output_type": "display_data"
    }
   ],
   "source": [
    "import matplotlib.pyplot as plt\n",
    "import matplotlib.image as img\n",
    "testImage = img.imread(r'C:\\Users\\REVANTH KUMAR\\Pictures\\Screenshots\\chennai.png')\n",
    "plt.imshow(testImage)"
   ]
  },
  {
   "cell_type": "code",
   "execution_count": null,
   "id": "60d06199",
   "metadata": {},
   "outputs": [],
   "source": []
  }
 ],
 "metadata": {
  "kernelspec": {
   "display_name": "Python 3 (ipykernel)",
   "language": "python",
   "name": "python3"
  },
  "language_info": {
   "codemirror_mode": {
    "name": "ipython",
    "version": 3
   },
   "file_extension": ".py",
   "mimetype": "text/x-python",
   "name": "python",
   "nbconvert_exporter": "python",
   "pygments_lexer": "ipython3",
   "version": "3.7.6"
  }
 },
 "nbformat": 4,
 "nbformat_minor": 5
}
